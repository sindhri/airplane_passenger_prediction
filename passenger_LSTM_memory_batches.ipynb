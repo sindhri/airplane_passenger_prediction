{
 "cells": [
  {
   "cell_type": "code",
   "execution_count": 1,
   "metadata": {},
   "outputs": [],
   "source": [
    "# LSTM for international airline passengers problem with memory\n",
    "import numpy\n",
    "import matplotlib.pyplot as plt\n",
    "from pandas import read_csv\n",
    "import math\n",
    "from tensorflow.keras.models import Sequential\n",
    "from tensorflow.keras.layers import Dense\n",
    "from tensorflow.keras.layers import LSTM\n",
    "from sklearn.preprocessing import MinMaxScaler\n",
    "from sklearn.metrics import mean_squared_error"
   ]
  },
  {
   "cell_type": "code",
   "execution_count": 2,
   "metadata": {},
   "outputs": [],
   "source": [
    "# convert an array of values into a dataset matrix\n",
    "def create_dataset(dataset, look_back=1):\n",
    "\tdataX, dataY = [], []\n",
    "\tfor i in range(len(dataset)-look_back-1):\n",
    "\t\ta = dataset[i:(i+look_back), 0]\n",
    "\t\tdataX.append(a)\n",
    "\t\tdataY.append(dataset[i + look_back, 0])\n",
    "\treturn numpy.array(dataX), numpy.array(dataY)"
   ]
  },
  {
   "cell_type": "code",
   "execution_count": 3,
   "metadata": {},
   "outputs": [],
   "source": [
    "# load the dataset\n",
    "dataframe = read_csv('international-airline-passengers.csv', usecols=[1], engine='python')\n",
    "dataset = dataframe.values\n",
    "dataset = dataset.astype('float32')\n",
    "# normalize the dataset\n",
    "scaler = MinMaxScaler(feature_range=(0, 1))\n",
    "dataset = scaler.fit_transform(dataset)\n",
    "# split into train and test sets\n",
    "train_size = int(len(dataset) * 0.67)\n",
    "test_size = len(dataset) - train_size\n",
    "train, test = dataset[0:train_size,:], dataset[train_size:len(dataset),:]\n",
    "# reshape into X=t and Y=t+1\n",
    "look_back = 3\n",
    "trainX, trainY = create_dataset(train, look_back)\n",
    "testX, testY = create_dataset(test, look_back)\n",
    "# reshape input to be [samples, time steps, features]\n",
    "trainX = numpy.reshape(trainX, (trainX.shape[0], trainX.shape[1], 1))\n",
    "testX = numpy.reshape(testX, (testX.shape[0], testX.shape[1], 1))"
   ]
  },
  {
   "cell_type": "code",
   "execution_count": 4,
   "metadata": {},
   "outputs": [
    {
     "name": "stdout",
     "output_type": "stream",
     "text": [
      "92/92 - 0s - loss: 0.0447\n",
      "92/92 - 0s - loss: 0.0236\n",
      "92/92 - 0s - loss: 0.0222\n",
      "92/92 - 0s - loss: 0.0182\n",
      "92/92 - 0s - loss: 0.0131\n",
      "92/92 - 0s - loss: 0.0082\n",
      "92/92 - 0s - loss: 0.0056\n",
      "92/92 - 0s - loss: 0.0052\n",
      "92/92 - 0s - loss: 0.0051\n",
      "92/92 - 0s - loss: 0.0051\n",
      "92/92 - 0s - loss: 0.0051\n",
      "92/92 - 0s - loss: 0.0050\n",
      "92/92 - 0s - loss: 0.0050\n",
      "92/92 - 0s - loss: 0.0050\n",
      "92/92 - 0s - loss: 0.0050\n",
      "92/92 - 0s - loss: 0.0049\n",
      "92/92 - 0s - loss: 0.0049\n",
      "WARNING:tensorflow:Callbacks method `on_train_batch_end` is slow compared to the batch time (batch time: 0.0037s vs `on_train_batch_end` time: 0.0062s). Check your callbacks.\n",
      "92/92 - 0s - loss: 0.0049\n",
      "92/92 - 0s - loss: 0.0049\n",
      "92/92 - 0s - loss: 0.0048\n",
      "92/92 - 0s - loss: 0.0048\n",
      "92/92 - 0s - loss: 0.0048\n",
      "92/92 - 0s - loss: 0.0048\n",
      "92/92 - 0s - loss: 0.0047\n",
      "92/92 - 0s - loss: 0.0047\n",
      "92/92 - 0s - loss: 0.0047\n",
      "92/92 - 0s - loss: 0.0047\n",
      "92/92 - 0s - loss: 0.0047\n",
      "92/92 - 0s - loss: 0.0046\n",
      "92/92 - 0s - loss: 0.0046\n",
      "92/92 - 0s - loss: 0.0046\n",
      "92/92 - 0s - loss: 0.0046\n",
      "92/92 - 0s - loss: 0.0046\n",
      "92/92 - 0s - loss: 0.0045\n",
      "92/92 - 0s - loss: 0.0045\n",
      "92/92 - 0s - loss: 0.0045\n",
      "92/92 - 0s - loss: 0.0044\n",
      "92/92 - 0s - loss: 0.0044\n",
      "92/92 - 0s - loss: 0.0044\n",
      "92/92 - 0s - loss: 0.0044\n",
      "92/92 - 0s - loss: 0.0043\n",
      "92/92 - 0s - loss: 0.0043\n",
      "92/92 - 0s - loss: 0.0042\n",
      "92/92 - 0s - loss: 0.0042\n",
      "92/92 - 0s - loss: 0.0042\n",
      "92/92 - 0s - loss: 0.0041\n",
      "92/92 - 0s - loss: 0.0041\n",
      "92/92 - 0s - loss: 0.0040\n",
      "92/92 - 0s - loss: 0.0039\n",
      "92/92 - 0s - loss: 0.0039\n",
      "92/92 - 0s - loss: 0.0038\n",
      "92/92 - 0s - loss: 0.0037\n",
      "92/92 - 0s - loss: 0.0036\n",
      "92/92 - 0s - loss: 0.0035\n",
      "92/92 - 0s - loss: 0.0034\n",
      "92/92 - 0s - loss: 0.0033\n",
      "92/92 - 0s - loss: 0.0032\n",
      "92/92 - 0s - loss: 0.0031\n",
      "92/92 - 0s - loss: 0.0030\n",
      "92/92 - 0s - loss: 0.0029\n",
      "92/92 - 0s - loss: 0.0028\n",
      "92/92 - 0s - loss: 0.0027\n",
      "92/92 - 0s - loss: 0.0026\n",
      "92/92 - 0s - loss: 0.0026\n",
      "92/92 - 0s - loss: 0.0025\n",
      "92/92 - 0s - loss: 0.0027\n",
      "92/92 - 0s - loss: 0.0032\n",
      "92/92 - 0s - loss: 0.0055\n",
      "92/92 - 0s - loss: 0.0035\n",
      "92/92 - 0s - loss: 0.0031\n",
      "92/92 - 0s - loss: 0.0030\n",
      "92/92 - 0s - loss: 0.0029\n",
      "92/92 - 0s - loss: 0.0028\n",
      "92/92 - 0s - loss: 0.0028\n",
      "92/92 - 0s - loss: 0.0027\n",
      "92/92 - 0s - loss: 0.0026\n",
      "92/92 - 0s - loss: 0.0026\n",
      "92/92 - 0s - loss: 0.0025\n",
      "92/92 - 0s - loss: 0.0025\n",
      "92/92 - 0s - loss: 0.0024\n",
      "92/92 - 0s - loss: 0.0024\n",
      "92/92 - 0s - loss: 0.0023\n",
      "92/92 - 0s - loss: 0.0023\n",
      "92/92 - 0s - loss: 0.0022\n",
      "92/92 - 0s - loss: 0.0022\n",
      "92/92 - 0s - loss: 0.0021\n",
      "92/92 - 0s - loss: 0.0021\n",
      "92/92 - 0s - loss: 0.0021\n",
      "92/92 - 0s - loss: 0.0020\n",
      "92/92 - 0s - loss: 0.0020\n",
      "92/92 - 0s - loss: 0.0020\n",
      "92/92 - 0s - loss: 0.0019\n",
      "92/92 - 0s - loss: 0.0019\n",
      "92/92 - 0s - loss: 0.0019\n",
      "92/92 - 0s - loss: 0.0018\n",
      "92/92 - 0s - loss: 0.0018\n",
      "92/92 - 0s - loss: 0.0018\n",
      "92/92 - 0s - loss: 0.0018\n",
      "92/92 - 0s - loss: 0.0018\n",
      "92/92 - 0s - loss: 0.0017\n"
     ]
    }
   ],
   "source": [
    "# create and fit the LSTM network\n",
    "batch_size = 1\n",
    "model = Sequential()\n",
    "model.add(LSTM(4, batch_input_shape=(batch_size, look_back, 1), stateful=True))\n",
    "model.add(Dense(1))\n",
    "model.compile(loss='mean_squared_error', optimizer='adam')\n",
    "for i in range(100):\n",
    "\tmodel.fit(trainX, trainY, epochs=1, batch_size=batch_size, verbose=2, shuffle=False)\n",
    "\tmodel.reset_states()"
   ]
  },
  {
   "cell_type": "code",
   "execution_count": 5,
   "metadata": {},
   "outputs": [
    {
     "name": "stdout",
     "output_type": "stream",
     "text": [
      "Train Score: 21.40 RMSE\n",
      "Test Score: 50.11 RMSE\n"
     ]
    },
    {
     "data": {
      "image/png": "[encoded data removed]",
      "text/plain": [
       "<Figure size 432x288 with 1 Axes>"
      ]
     },
     "metadata": {
      "needs_background": "light"
     },
     "output_type": "display_data"
    }
   ],
   "source": [
    "# make predictions\n",
    "trainPredict = model.predict(trainX, batch_size=batch_size)\n",
    "model.reset_states()\n",
    "testPredict = model.predict(testX, batch_size=batch_size)\n",
    "# invert predictions\n",
    "trainPredict = scaler.inverse_transform(trainPredict)\n",
    "trainY = scaler.inverse_transform([trainY])\n",
    "testPredict = scaler.inverse_transform(testPredict)\n",
    "testY = scaler.inverse_transform([testY])\n",
    "# calculate root mean squared error\n",
    "trainScore = math.sqrt(mean_squared_error(trainY[0], trainPredict[:,0]))\n",
    "print('Train Score: %.2f RMSE' % (trainScore))\n",
    "testScore = math.sqrt(mean_squared_error(testY[0], testPredict[:,0]))\n",
    "print('Test Score: %.2f RMSE' % (testScore))\n",
    "# shift train predictions for plotting\n",
    "trainPredictPlot = numpy.empty_like(dataset)\n",
    "trainPredictPlot[:, :] = numpy.nan\n",
    "trainPredictPlot[look_back:len(trainPredict)+look_back, :] = trainPredict\n",
    "# shift test predictions for plotting\n",
    "testPredictPlot = numpy.empty_like(dataset)\n",
    "testPredictPlot[:, :] = numpy.nan\n",
    "testPredictPlot[len(trainPredict)+(look_back*2)+1:len(dataset)-1, :] = testPredict\n",
    "# plot baseline and predictions\n",
    "plt.plot(scaler.inverse_transform(dataset))\n",
    "plt.plot(trainPredictPlot)\n",
    "plt.plot(testPredictPlot)\n",
    "plt.show()"
   ]
  },
  {
   "cell_type": "code",
   "execution_count": null,
   "metadata": {},
   "outputs": [],
   "source": []
  }
 ],
 "metadata": {
  "kernelspec": {
   "display_name": "Python 3",
   "language": "python",
   "name": "python3"
  },
  "language_info": {
   "codemirror_mode": {
    "name": "ipython",
    "version": 3
   },
   "file_extension": ".py",
   "mimetype": "text/x-python",
   "name": "python",
   "nbconvert_exporter": "python",
   "pygments_lexer": "ipython3",
   "version": "3.7.4"
  }
 },
 "nbformat": 4,
 "nbformat_minor": 2
}
